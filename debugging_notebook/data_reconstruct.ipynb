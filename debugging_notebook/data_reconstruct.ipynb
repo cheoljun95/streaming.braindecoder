{
 "cells": [
  {
   "cell_type": "code",
   "execution_count": 41,
   "id": "7af48e5e-6821-4a62-be75-53485a0420ed",
   "metadata": {
    "tags": []
   },
   "outputs": [],
   "source": [
    "import numpy as np\n",
    "import pandas as pd\n",
    "import tqdm"
   ]
  },
  {
   "cell_type": "code",
   "execution_count": 45,
   "id": "00486118-34bc-4db8-9b01-f2a6482bc1d5",
   "metadata": {
    "tags": []
   },
   "outputs": [],
   "source": [
    "def create_filelist(trial_files, save_path, text_label_file, metainfo_path):\n",
    "    with open(text_label_file, \"r\") as f:\n",
    "        texts = [t.rstrip() for t in f.readlines()]\n",
    "\n",
    "    df = pd.read_csv(metainfo_path)\n",
    "\n",
    "    ecog_fileprefix=\"hgr_\"\n",
    "    idx2text={}\n",
    "    idx2fileidx={}\n",
    "    idx2filename={}\n",
    "    idx2textidx={}\n",
    "    for fileidx, (block_idx, trial_idx, text, label) in enumerate(zip(df['block_num'].values,\n",
    "                                              df['trial_num'].values,\n",
    "                                              df['gt_text'].values,\n",
    "                                                                     df['gt_idx'])):\n",
    "        idx = f'B{block_idx}_{trial_idx:05d}'\n",
    "        idx2text[idx]=text\n",
    "        idx2fileidx[idx]=fileidx\n",
    "        idx2filename[idx] = f'{ecog_fileprefix}{block_idx}_{trial_idx}_{label}.npy'\n",
    "        idx2textidx[idx] = texts.index(text)\n",
    "\n",
    "    with open(trial_files, \"r\") as f:\n",
    "        trials = [\"_\".join(t.rstrip().split(\"_\")[1:3]) for t in f.readlines()]\n",
    "    \n",
    "    def idx2hbunits(idx):\n",
    "        hb_dir = \"/data/cheoljun/b3_audio_scale-2/unit_label/hubert-l6_km100/tm1k\"\n",
    "\n",
    "        hb = np.load((hb_dir+f\"/{idx2textidx[idx]}.npy\"))\n",
    "\n",
    "        return \" \".join(hb.astype(str))\n",
    "\n",
    "    lines = []\n",
    "    for idx in tqdm.tqdm(trials):\n",
    "        line = \"|\".join([idx2filename[idx],idx2text[idx], idx2hbunits(idx)])\n",
    "        lines.append(line)\n",
    "\n",
    "    with open(save_path, \"w\") as f:\n",
    "        for line in lines:\n",
    "            f.write(line+\"\\n\")\n",
    "    return lines"
   ]
  },
  {
   "cell_type": "code",
   "execution_count": 43,
   "id": "c875ed2a-55cc-439d-8279-6e9827e586fd",
   "metadata": {
    "tags": []
   },
   "outputs": [],
   "source": [
    "text_label_file = '/data/cheoljun/b3_misc/audio_info/tm1k_text_20240107.txt'\n",
    "train_files = '/home/cheoljun/rnnt.streaming.anyunit/outputs/2024-01-25/18-53-33/train.txt'\n",
    "val_files = '/home/cheoljun/rnnt.streaming.anyunit/outputs/2024-01-25/18-53-33/test.txt'\n",
    "test_files = \"/data/common/b3_paper/packaged_data/streaming_paper_data/tm1k_mimed_slow/test_demoday_ecog_tm1k_synthesis.txt\"\n",
    "metainfo_path = \"/data/cheoljun/b3_misc/tm1k_streamer_paper_final_session_dataframe.csv\""
   ]
  },
  {
   "cell_type": "code",
   "execution_count": 4,
   "id": "26d800d0-8768-4c9a-bc92-96b7bed83124",
   "metadata": {
    "tags": []
   },
   "outputs": [],
   "source": [
    "save_path = \"/data/common/bravo_streaming_data/filelist/tm1k_train.txt\""
   ]
  },
  {
   "cell_type": "code",
   "execution_count": 46,
   "id": "67c073d4-db1f-49c8-abbb-0020e0b2d493",
   "metadata": {
    "tags": []
   },
   "outputs": [
    {
     "name": "stderr",
     "output_type": "stream",
     "text": [
      "100%|██████████████████████████████████████████████████████████████| 23378/23378 [01:20<00:00, 289.48it/s]\n"
     ]
    }
   ],
   "source": [
    "_=create_filelist(train_files, \"/data/common/bravo_streaming_data/filelist/tm1k_train.txt\", text_label_file, metainfo_path)"
   ]
  },
  {
   "cell_type": "code",
   "execution_count": 48,
   "id": "a7f12e53-0446-4f4b-8818-8c8329855fb4",
   "metadata": {
    "tags": []
   },
   "outputs": [
    {
     "name": "stderr",
     "output_type": "stream",
     "text": [
      "100%|████████████████████████████████████████████████████████████████████| 50/50 [00:00<00:00, 214.82it/s]\n",
      "100%|██████████████████████████████████████████████████████████████████| 100/100 [00:00<00:00, 306.12it/s]\n"
     ]
    }
   ],
   "source": [
    "\n",
    "_=create_filelist(val_files, \"/data/common/bravo_streaming_data/filelist/tm1k_dev.txt\", text_label_file, metainfo_path)\n",
    "_=create_filelist(test_files, \"/data/common/bravo_streaming_data/filelist/tm1k_test_withfeedback.txt\", text_label_file, metainfo_path)"
   ]
  },
  {
   "cell_type": "code",
   "execution_count": 49,
   "id": "30534a2a-afd4-42ef-b1ee-75a73a4aed53",
   "metadata": {
    "tags": []
   },
   "outputs": [
    {
     "name": "stderr",
     "output_type": "stream",
     "text": [
      "100%|███████████████████████████████████████████████████████████████████| 50/50 [00:00<00:00, 4239.33it/s]\n"
     ]
    }
   ],
   "source": [
    "_=create_filelist(\"/data/cheoljun/b3_misc/test_demoday_ecog_tm1k_synthesis_first50.txt\",\n",
    "                  \"/data/common/bravo_streaming_data/filelist/tm1k_test50_withfeedback.txt\", text_label_file, metainfo_path)"
   ]
  },
  {
   "cell_type": "code",
   "execution_count": 50,
   "id": "744efd7a-24a3-41a9-a023-b6297831906a",
   "metadata": {
    "tags": []
   },
   "outputs": [
    {
     "name": "stderr",
     "output_type": "stream",
     "text": [
      "100%|███████████████████████████████████████████████████████████████████| 50/50 [00:00<00:00, 4285.85it/s]\n"
     ]
    }
   ],
   "source": [
    "_=create_filelist(\"/data/common/b3_paper/packaged_data/streaming_paper_data/tm1k_mimed_slow/test_demoday_nofeedback_tm1k_synthesis.txt\",\n",
    "                  \"/data/common/bravo_streaming_data/filelist/tm1k_test50_withoutfeedback.txt\", text_label_file, metainfo_path)"
   ]
  },
  {
   "cell_type": "code",
   "execution_count": null,
   "id": "42e56353-e29c-402e-a4f1-d577808a9b17",
   "metadata": {},
   "outputs": [],
   "source": []
  }
 ],
 "metadata": {
  "kernelspec": {
   "display_name": "rnnt",
   "language": "python",
   "name": "rnnt"
  },
  "language_info": {
   "codemirror_mode": {
    "name": "ipython",
    "version": 3
   },
   "file_extension": ".py",
   "mimetype": "text/x-python",
   "name": "python",
   "nbconvert_exporter": "python",
   "pygments_lexer": "ipython3",
   "version": "3.9.18"
  }
 },
 "nbformat": 4,
 "nbformat_minor": 5
}
