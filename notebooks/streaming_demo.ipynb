{
 "cells": [
  {
   "cell_type": "code",
   "execution_count": 1,
   "id": "03a2fca4-d9b2-4129-8278-ec19cb43f14e",
   "metadata": {
    "tags": []
   },
   "outputs": [
    {
     "name": "stderr",
     "output_type": "stream",
     "text": [
      "/home/cheoljun/anaconda3/envs/transformer/lib/python3.8/site-packages/tqdm/auto.py:21: TqdmWarning: IProgress not found. Please update jupyter and ipywidgets. See https://ipywidgets.readthedocs.io/en/stable/user_install.html\n",
      "  from .autonotebook import tqdm as notebook_tqdm\n"
     ]
    }
   ],
   "source": [
    "import sys\n",
    "sys.path.append('..')\n",
    "from dataloader.datamodule_ecog2ph import ECoGPhonemeDataModule\n",
    "import numpy as np\n",
    "import torch\n",
    "from utils.utils import load_model\n",
    "from model.unit_rnnt import SpeechModel\n",
    "from model.rnnt_beamsearch import RNNTBeamSearch\n",
    "import time\n",
    "import tqdm\n",
    "import torchaudio\n",
    "import matplotlib.pyplot as plt"
   ]
  },
  {
   "cell_type": "code",
   "execution_count": 2,
   "id": "c39da651-7fd9-452a-8dc7-7e382d523ed5",
   "metadata": {
    "tags": []
   },
   "outputs": [],
   "source": [
    "device = 'cuda'"
   ]
  },
  {
   "cell_type": "code",
   "execution_count": 192,
   "id": "eb39685c-a484-4648-a7d1-d986859e267b",
   "metadata": {
    "tags": []
   },
   "outputs": [],
   "source": [
    "model,cfg = load_model('../outputs/2023-10-05/05-09-40/phoneme-wspace-tm1k-causal-v2',\n",
    "                       MODEL=SpeechModel, mode='best')"
   ]
  },
  {
   "cell_type": "code",
   "execution_count": 193,
   "id": "40799731-e312-4f59-9ffb-d06f63764095",
   "metadata": {
    "tags": []
   },
   "outputs": [],
   "source": [
    "model = model.net.eval()"
   ]
  },
  {
   "cell_type": "code",
   "execution_count": 194,
   "id": "4c603f7a-a490-44ef-b5c7-d89015ce98fa",
   "metadata": {
    "tags": []
   },
   "outputs": [],
   "source": [
    "model = model.to('cuda')"
   ]
  },
  {
   "cell_type": "code",
   "execution_count": 195,
   "id": "d9b8a745-ca14-4ac1-8197-c232602265b0",
   "metadata": {
    "tags": []
   },
   "outputs": [],
   "source": [
    "decoder = RNNTBeamSearch(model.rnnt,model.blank_id,step_max_tokens=100)"
   ]
  },
  {
   "cell_type": "code",
   "execution_count": 150,
   "id": "a132b06b-fbbf-4ed6-b08a-9e241977be6e",
   "metadata": {
    "tags": []
   },
   "outputs": [],
   "source": [
    "datamodule = ECoGPhonemeDataModule(**cfg['data'])"
   ]
  },
  {
   "cell_type": "code",
   "execution_count": 151,
   "id": "d79559d8-a0d6-4e19-a8a3-92138d9989a8",
   "metadata": {
    "tags": []
   },
   "outputs": [],
   "source": [
    "test_loader = datamodule.test_dataloader()"
   ]
  },
  {
   "cell_type": "code",
   "execution_count": 175,
   "id": "c12e36af-236e-4231-a1e7-2ddf9bb12321",
   "metadata": {
    "tags": []
   },
   "outputs": [],
   "source": [
    "test_loader.dataset.transform=None"
   ]
  },
  {
   "cell_type": "code",
   "execution_count": 203,
   "id": "aab7039a-3cf1-4b30-8ca4-c3193d6e084d",
   "metadata": {
    "tags": []
   },
   "outputs": [
    {
     "name": "stderr",
     "output_type": "stream",
     "text": [
      "100%|██████████████████████████████████████████████████████████████████| 250/250 [03:13<00:00,  1.29it/s]\n",
      "100%|██████████████████████████████████████████████████████████████████| 250/250 [03:03<00:00,  1.36it/s]\n",
      "100%|██████████████████████████████████████████████████████████████████| 250/250 [02:57<00:00,  1.41it/s]\n",
      "100%|██████████████████████████████████████████████████████████████████| 250/250 [02:43<00:00,  1.53it/s]\n"
     ]
    }
   ],
   "source": [
    "\n",
    "stats={}\n",
    "best_n = 1\n",
    "for chunk_size in [4,8,12,16]:\n",
    "    test_times=[]\n",
    "    preds =[]\n",
    "    gts =[]\n",
    "    for i in tqdm.tqdm(range(len(test_loader.dataset))):\n",
    "        x = test_loader.dataset.__getitem__(i)\n",
    "        input_all = x['ecog'].to(device)\n",
    "        len_all = torch.tensor(x['ecog_len']).to(device)\n",
    "\n",
    "        state, hypothesis = None, None\n",
    "        times=[]\n",
    "        for i in range(0,x['ecog_len'],chunk_size):\n",
    "            start_time = time.time()\n",
    "            input_ = input_all[i:i+chunk_size]\n",
    "            if len(input_)<chunk_size:\n",
    "                break\n",
    "            len_ = torch.tensor(len(input_),device=device)\n",
    "            hypos, state = decoder.infer(input_, len_, 20, state=state, hypothesis=hypothesis)\n",
    "            hypothesis = hypos[:best_n]\n",
    "            end_time = time.time()\n",
    "            #phs = model.token_decoder(hypos[0][0][1:])\n",
    "            #print(phs)\n",
    "            times.append(end_time-start_time)\n",
    "        preds.append(model.token_decoder(hypos[0][0][1:]))\n",
    "        gts.append(model.tokenizer([x['text']])[-1][0])\n",
    "        times = np.array(times)\n",
    "        test_times.append(times)\n",
    "    chunk_time = 6/200*chunk_size\n",
    "    mean_times = np.array([(test_times[i][:128//chunk_size]).mean() for i in range(len(test_times))])#+chunk_time\n",
    "    pers = np.array([torchaudio.functional.edit_distance(pred_.split(' '), gt_.split(' ')) / len(gt_.split(' ')) \n",
    "            for pred_,gt_ in zip(preds, gts)])\n",
    "    stats[(chunk_size, best_n)] ={'mean_time':mean_times,\n",
    "                                  'chunk_time':chunk_time,\n",
    "                                  'per':pers}"
   ]
  },
  {
   "cell_type": "code",
   "execution_count": 204,
   "id": "aee7ba26-140c-4ffc-8504-c1820ba20c09",
   "metadata": {
    "tags": []
   },
   "outputs": [
    {
     "name": "stderr",
     "output_type": "stream",
     "text": [
      "/tmp/ipykernel_1030569/2002342706.py:27: UserWarning: FixedFormatter should only be used together with FixedLocator\n",
      "  axs[0].set_xticklabels(names)#, rotation = 30, ha='right', rotation_mode='anchor')\n",
      "/tmp/ipykernel_1030569/2002342706.py:32: UserWarning: FixedFormatter should only be used together with FixedLocator\n",
      "  axs[1].set_xticklabels(names)#, rotation = 30, ha='right', rotation_mode='anchor')\n",
      "/tmp/ipykernel_1030569/2002342706.py:37: UserWarning: FixedFormatter should only be used together with FixedLocator\n",
      "  axs[2].set_xticklabels(names)#, rotation = 30, ha='right', rotation_mode='anchor')\n"
     ]
    },
    {
     "data": {
      "image/png": "[encoded data removed]",
      "text/plain": [
       "<Figure size 1200x200 with 3 Axes>"
      ]
     },
     "metadata": {},
     "output_type": "display_data"
    }
   ],
   "source": [
    "\n",
    "names=[]\n",
    "time_means=[]\n",
    "time_stds=[]\n",
    "per_means=[]\n",
    "per_stds=[]\n",
    "buffer_times=[]\n",
    "for (chunk_size, best_n), results in stats.items():\n",
    "    chunk_time = 6/200*chunk_size\n",
    "    buffer_times.append(chunk_time)\n",
    "    name = f'{int(chunk_time*1000)}'\n",
    "    names.append(name)\n",
    "    time_means.append((results['mean_time']*1000).mean())\n",
    "    time_stds.append((results['mean_time']*1000).std())\n",
    "    per_means.append((results['per']*100).mean())\n",
    "    per_stds.append((results['per']*100).std())\n",
    "time_means = np.array(time_means)\n",
    "time_stds=np.array(time_stds)\n",
    "per_means=np.array(per_means)\n",
    "per_stds=np.array(per_stds)\n",
    "buffer_times=np.array(buffer_times)\n",
    "\n",
    "fig, axs = plt.subplots(1, 3, figsize=(12,2))\n",
    "axs[0].errorbar(names, time_means+buffer_times*1000, yerr=time_stds, label='latency[ms]')\n",
    "axs[0].set_ylabel('Latency [ms]')\n",
    "axs[0].set_title('Buffer+Inference Time')\n",
    "axs[0].set_xlabel('Buffer [ms]')\n",
    "axs[0].set_xticklabels(names)#, rotation = 30, ha='right', rotation_mode='anchor')\n",
    "axs[1].errorbar(names, time_means, yerr=time_stds, label='latency[ms]')\n",
    "axs[1].set_ylabel('Latency [ms]')\n",
    "axs[1].set_title('Inference Time')\n",
    "axs[1].set_xlabel('Buffer [ms]')\n",
    "axs[1].set_xticklabels(names)#, rotation = 30, ha='right', rotation_mode='anchor')\n",
    "axs[2].errorbar(names, per_means, yerr=per_stds, label='latency[ms]')\n",
    "axs[2].set_ylabel('PER [%]')\n",
    "axs[2].set_xlabel('Buffer [ms]')\n",
    "axs[2].set_title('PER')\n",
    "axs[2].set_xticklabels(names)#, rotation = 30, ha='right', rotation_mode='anchor')\n",
    "title = fig.suptitle('Streaming ECoG-to-Phoneme')\n",
    "\n",
    "# Increase the space around the super title\n",
    "title.set_y(1.15)  \n",
    "plt.subplots_adjust(top=0.9, \n",
    "                    wspace=0.25, \n",
    "                    hspace=0.4)"
   ]
  },
  {
   "cell_type": "code",
   "execution_count": 202,
   "id": "d09c55f2-44d4-433b-bf1b-6dfe481b08bd",
   "metadata": {
    "tags": []
   },
   "outputs": [
    {
     "name": "stdout",
     "output_type": "stream",
     "text": [
      "GT- IH Z | IH T | B AE K | IH N\n",
      "PRED[000ms]- \n",
      "PRED[120ms]- \n",
      "PRED[240ms]- \n",
      "PRED[360ms]- \n",
      "PRED[480ms]- \n",
      "PRED[600ms]- \n",
      "PRED[720ms]- \n",
      "PRED[840ms]- \n",
      "PRED[960ms]- \n",
      "PRED[1080ms]- \n",
      "PRED[1200ms]- \n",
      "PRED[1319ms]- \n",
      "PRED[1440ms]- \n",
      "PRED[1560ms]- \n",
      "PRED[1680ms]- \n",
      "PRED[1799ms]- \n",
      "PRED[1920ms]- \n",
      "PRED[2040ms]- IH\n",
      "PRED[2160ms]- IH\n",
      "PRED[2280ms]- IH Z\n",
      "PRED[2400ms]- IH Z |\n",
      "PRED[2520ms]- IH Z |\n",
      "PRED[2639ms]- IH Z | IH\n",
      "PRED[2760ms]- IH Z | IH T\n",
      "PRED[2880ms]- IH Z | IH T\n",
      "PRED[3000ms]- IH Z | IH T | B\n",
      "PRED[3120ms]- IH Z | IH T | B\n",
      "PRED[3239ms]- IH Z | IH T | B\n",
      "PRED[3360ms]- IH Z | IH T | B AE\n",
      "PRED[3480ms]- IH Z | IH T | B AE K\n",
      "PRED[3599ms]- IH Z | IH T | B AE K |\n",
      "PRED[3719ms]- IH Z | IH T | B AE K |\n",
      "PRED[3840ms]- IH Z | IH T | B AE K |\n",
      "PRED[3960ms]- IH Z | IH T | B AE K |\n",
      "PRED[4080ms]- IH Z | IH T | B AE K | IH\n",
      "PRED[4200ms]- IH Z | IH T | B AE K | IH\n",
      "PRED[4320ms]- IH Z | IH T | B AE K | IH N\n",
      "PRED[4439ms]- IH Z | IH T | B AE K | IH N\n",
      "PRED[4560ms]- IH Z | IH T | B AE K | IH N\n",
      "PRED[4680ms]- IH Z | IH T | B AE K | IH N\n",
      "PRED[4800ms]- IH Z | IH T | B AE K | IH N\n",
      "PRED[4920ms]- IH Z | IH T | B AE K | IH N\n",
      "PRED[5040ms]- IH Z | IH T | B AE K | IH N\n",
      "PRED[5160ms]- IH Z | IH T | B AE K | IH N\n",
      "PRED[5279ms]- IH Z | IH T | B AE K | IH N\n",
      "PRED[5399ms]- IH Z | IH T | B AE K | IH N\n",
      "PRED[5520ms]- IH Z | IH T | B AE K | IH N\n",
      "PRED[5640ms]- IH Z | IH T | B AE K | IH N\n",
      "PRED[5760ms]- IH Z | IH T | B AE K | IH N\n",
      "PRED[5880ms]- IH Z | IH T | B AE K | IH N\n",
      "PRED[6000ms]- IH Z | IH T | B AE K | IH N\n",
      "PRED[6120ms]- IH Z | IH T | B AE K | IH N\n",
      "PRED[6240ms]- IH Z | IH T | B AE K | IH N\n",
      "PRED[6359ms]- IH Z | IH T | B AE K | IH N\n",
      "PRED[6479ms]- IH Z | IH T | B AE K | IH N\n",
      "PRED[6600ms]- IH Z | IH T | B AE K | IH N\n",
      "PRED[6720ms]- IH Z | IH T | B AE K | IH N\n",
      "PRED[6840ms]- IH Z | IH T | B AE K | IH N\n",
      "PRED[6960ms]- IH Z | IH T | B AE K | IH N\n",
      "PRED[7080ms]- IH Z | IH T | B AE K | IH N\n",
      "PRED[7199ms]- IH Z | IH T | B AE K | IH N\n",
      "PRED[7319ms]- IH Z | IH T | B AE K | IH N\n",
      "PRED[7439ms]- IH Z | IH T | B AE K | IH N\n",
      "PRED[7560ms]- IH Z | IH T | B AE K | IH N\n",
      "PRED[7680ms]- IH Z | IH T | B AE K | IH N\n",
      "PRED[7800ms]- IH Z | IH T | B AE K | IH N\n",
      "PRED[7920ms]- IH Z | IH T | B AE K | IH N\n",
      "PRED[8039ms]- IH Z | IH T | B AE K | IH N\n",
      "PRED[8160ms]- IH Z | IH T | B AE K | IH N\n",
      "PRED[8280ms]- IH Z | IH T | B AE K | IH N\n",
      "PRED[8400ms]- IH Z | IH T | B AE K | IH N\n",
      "PRED[8520ms]- IH Z | IH T | B AE K | IH N\n",
      "PRED[8640ms]- IH Z | IH T | B AE K | IH N\n",
      "PRED[8760ms]- IH Z | IH T | B AE K | IH N\n",
      "PRED[8879ms]- IH Z | IH T | B AE K | IH N\n"
     ]
    }
   ],
   "source": [
    "chunk_size=4\n",
    "best_n=1\n",
    "i=6\n",
    "x = test_loader.dataset.__getitem__(i)\n",
    "input_all = x['ecog'].to(device)\n",
    "len_all = torch.tensor(x['ecog_len']).to(device)\n",
    "\n",
    "state, hypothesis = None, None\n",
    "times=[]\n",
    "print('GT-',model.tokenizer([x['text']])[-1][0])\n",
    "for ci in range(0,x['ecog_len'],chunk_size):\n",
    "    start_time = time.time()\n",
    "    input_ = input_all[ci:ci+chunk_size]\n",
    "    if len(input_)<chunk_size:\n",
    "        break\n",
    "    len_ = torch.tensor(len(input_),device=device)\n",
    "    hypos, state = decoder.infer(input_, len_, 20, state=state, hypothesis=hypothesis)\n",
    "    hypothesis = hypos[:best_n]\n",
    "    end_time = time.time()\n",
    "    phs = model.token_decoder(hypos[0][0][1:])\n",
    "    print(f'PRED[{int(6/200*ci*1000):03d}ms]-', phs)"
   ]
  },
  {
   "cell_type": "code",
   "execution_count": null,
   "id": "e1f01803-e258-4bc6-b3ad-f8fd5631211f",
   "metadata": {},
   "outputs": [],
   "source": []
  }
 ],
 "metadata": {
  "kernelspec": {
   "display_name": "transformer",
   "language": "python",
   "name": "transformer"
  },
  "language_info": {
   "codemirror_mode": {
    "name": "ipython",
    "version": 3
   },
   "file_extension": ".py",
   "mimetype": "text/x-python",
   "name": "python",
   "nbconvert_exporter": "python",
   "pygments_lexer": "ipython3",
   "version": "3.8.17"
  }
 },
 "nbformat": 4,
 "nbformat_minor": 5
}
