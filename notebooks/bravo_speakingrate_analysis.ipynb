{
 "cells": [
  {
   "cell_type": "code",
   "execution_count": 3,
   "id": "8b3fcb6c-9515-4d4a-b74b-37a545837cb5",
   "metadata": {
    "tags": []
   },
   "outputs": [
    {
     "name": "stderr",
     "output_type": "stream",
     "text": [
      "/home/cheoljun/anaconda3/envs/transformer/lib/python3.8/site-packages/tqdm/auto.py:21: TqdmWarning: IProgress not found. Please update jupyter and ipywidgets. See https://ipywidgets.readthedocs.io/en/stable/user_install.html\n",
      "  from .autonotebook import tqdm as notebook_tqdm\n"
     ]
    }
   ],
   "source": [
    "import sys\n",
    "sys.path.append('..')\n",
    "from dataloader.datamodule_ecog2ph import ECoGPhonemeDataset, ECoGPhonemeDataModule\n",
    "import numpy as np\n",
    "import torch\n",
    "from utils.utils import load_cfg_and_ckpt_path\n",
    "from model.phoneme_ctc import SpeechModel\n",
    "import time\n",
    "import tqdm\n",
    "import torchaudio\n",
    "from pathlib import Path\n",
    "import re\n",
    "import string\n",
    "regex = re.compile('[%s]' % re.escape(string.punctuation))\n"
   ]
  },
  {
   "cell_type": "code",
   "execution_count": 4,
   "id": "8905827c-2e45-47ee-93b4-d78bee90ade4",
   "metadata": {
    "tags": []
   },
   "outputs": [],
   "source": [
    "\n",
    "cfg,_ = load_cfg_and_ckpt_path('../outputs/2023-10-02/08-13-46/phoneme_ctc_tm1k')\n",
    "\n",
    "datamodule = ECoGPhonemeDataModule(**cfg['data'])\n",
    "\n",
    "\n",
    "ecog_files =([f for f,_ in datamodule._load_data('train')]+\n",
    "            [f for f,_ in datamodule._load_data('val')]+\n",
    "             [f for f,_ in datamodule._load_data('test')])\n",
    "\n",
    "texts = ([t for _,t in datamodule._load_data('train')]+\n",
    "            [t for _,t in datamodule._load_data('val')]+\n",
    "             [t for _,t in datamodule._load_data('test')])\n",
    "\n",
    "#ecog_file\n",
    "save_dir = Path('/data/cheoljun/b3_features/phoneme_posterior')/cfg['data']['paradigm']\n"
   ]
  },
  {
   "cell_type": "code",
   "execution_count": 5,
   "id": "2d8d9c2f-5a5c-4d13-8ea2-7005d071ffcb",
   "metadata": {
    "tags": []
   },
   "outputs": [
    {
     "name": "stderr",
     "output_type": "stream",
     "text": [
      "9887it [00:03, 2878.29it/s]\n"
     ]
    }
   ],
   "source": [
    "lens=[]\n",
    "word_lens=[]\n",
    "for ecog_file,text in tqdm.tqdm(zip(ecog_files,texts)):\n",
    "    save_path = ecog_file.stem.split('_')[-1]\n",
    "    save_path = save_dir/f'{save_path}.npy'\n",
    "    phpos = np.load(save_path)\n",
    "    non_blank = np.nonzero((phpos[:,:2].sum(-1)<0.5)*1.0)[0]\n",
    "    start, end = non_blank[0],non_blank[-1]\n",
    "    word_lens.append(len(text.split(' ')))\n",
    "    lens.append(end-start+1)"
   ]
  },
  {
   "cell_type": "code",
   "execution_count": 54,
   "id": "c70c94f4-ba36-44a6-bcd2-dfa51813650d",
   "metadata": {
    "tags": []
   },
   "outputs": [
    {
     "data": {
      "text/plain": [
       "9.0"
      ]
     },
     "execution_count": 54,
     "metadata": {},
     "output_type": "execute_result"
    }
   ],
   "source": [
    "len(phpos)*sr"
   ]
  },
  {
   "cell_type": "code",
   "execution_count": null,
   "id": "7c873243-46a6-4ca5-a379-a5d17e697bd1",
   "metadata": {},
   "outputs": [],
   "source": [
    "fileidx2textidx=np.load('/data/cheoljun/b3_audio_scale-2/tm1k/file2textindex.npy',allow_pickle=True)[()]"
   ]
  },
  {
   "cell_type": "code",
   "execution_count": null,
   "id": "0b219044-ebde-4064-afb7-c3bd8789dbbc",
   "metadata": {},
   "outputs": [],
   "source": []
  },
  {
   "cell_type": "code",
   "execution_count": 32,
   "id": "decfee01-6d11-491e-a46f-aaf4a9666701",
   "metadata": {
    "tags": []
   },
   "outputs": [],
   "source": [
    "sr = 4*6/200"
   ]
  },
  {
   "cell_type": "code",
   "execution_count": 49,
   "id": "d5b4c4e2-1be6-40b0-84e5-da3a4db9691e",
   "metadata": {
    "tags": []
   },
   "outputs": [
    {
     "data": {
      "text/plain": [
       "0.7742435424354244"
      ]
     },
     "execution_count": 49,
     "metadata": {},
     "output_type": "execute_result"
    }
   ],
   "source": [
    "np.sum(lens)/np.sum(word_lens)*sr"
   ]
  },
  {
   "cell_type": "code",
   "execution_count": 57,
   "id": "c62addc6-755a-4122-a6d0-f38d9942114d",
   "metadata": {
    "tags": []
   },
   "outputs": [],
   "source": [
    "wpm = np.sum(word_lens)/(np.sum(lens)*sr/60)"
   ]
  },
  {
   "cell_type": "code",
   "execution_count": 58,
   "id": "28ab6d24-9c71-4480-af70-a357b6d56367",
   "metadata": {
    "tags": []
   },
   "outputs": [
    {
     "data": {
      "text/plain": [
       "77.49499571060909"
      ]
     },
     "execution_count": 58,
     "metadata": {},
     "output_type": "execute_result"
    }
   ],
   "source": [
    "wpm"
   ]
  },
  {
   "cell_type": "code",
   "execution_count": 52,
   "id": "b3059882-10a7-46a2-a477-bfc9f4343f4c",
   "metadata": {
    "tags": []
   },
   "outputs": [
    {
     "data": {
      "text/plain": [
       "1.677527675276753"
      ]
     },
     "execution_count": 52,
     "metadata": {},
     "output_type": "execute_result"
    }
   ],
   "source": [
    "130/wpm"
   ]
  },
  {
   "cell_type": "code",
   "execution_count": 47,
   "id": "a2551566-4d40-4ddd-9fc4-cf59cf48be9a",
   "metadata": {
    "tags": []
   },
   "outputs": [],
   "source": [
    "sample_texts=np.array(['What class did you say that was?', 'Sometimes I just need a hug.',\n",
    "       'I keep telling myself that.', 'Nothing what could I do?',\n",
    "       'About my blood work?', 'Never mind, just say it.',\n",
    "       'Exactly two hundred dollars a pop.',\n",
    "       'Alright what did you think?', 'How do you know this place?',\n",
    "       'I know I called them.', 'First thing that comes to your mind?',\n",
    "       'Where do I put this!?', 'And a missing man.',\n",
    "       'But you knew about this.', 'What is the point?',\n",
    "       'What is it, dad?', 'I cannot tell a lie.',\n",
    "       'I wonder where they went.', 'Which one is for the car?',\n",
    "       'You had one guy like that?', 'Where are they? Do you see them?',\n",
    "       'So it would seem.', 'The kids are in here!', 'Can we come in?',\n",
    "       'I wish we could start over', 'Wait, I wanted her to do it.',\n",
    "       'I said: I found a room.', 'No, that door over there.',\n",
    "       'Keep warm, dear let me hear from you.',\n",
    "       'Who was that on the phone?', 'And be right back.',\n",
    "       'I know how that can be.', 'Whatever I can get away with.',\n",
    "       'I want you to do this work.', 'Give it back to me.',\n",
    "       'Get them in the lab!', 'If it works you mean.',\n",
    "       'Think about it okay?', 'Your feet are cold.',\n",
    "       'Another kind of game?', 'Does it have a television?',\n",
    "       'If I change my mind.', 'Can you do it?',\n",
    "       'No, I left it in his office.', 'Because she is my friend.',\n",
    "       'I want you to do something for me.', 'Thanks for the coffee.',\n",
    "       'Have you pulled yourself together?', 'Same weight I always was.',\n",
    "       'Did you mail then?', 'Put in a quarter.',\n",
    "       'I want to check something hold my feet.', 'Why did you quit?',\n",
    "       'And the one driving the other car?', 'My father was a sick man.',\n",
    "       'She left a note.', 'He wants a lot of money.',\n",
    "       'But what about lunch?', 'Do you see them yet?',\n",
    "       'I believe in you.', 'There goes your ride.', 'She talks to me.',\n",
    "       'He was looking out for you.', 'Does it have a human name?',\n",
    "       'This is not real life', 'You like ball games?',\n",
    "       'Take another look at these two.',\n",
    "       'And still not a thing to watch.', 'We got to get out of here.',\n",
    "       'Were you always this sick?', 'I done it again.',\n",
    "       'Did you really say that?', 'But where did you finally end up?',\n",
    "       'Are you out of your mind?', 'When did you see him last?',\n",
    "       'Does she love the cat?', 'Go ahead you can say it.',\n",
    "       'Not until he has the money!', 'They get hair all over the place.',\n",
    "       'Want to come out?', 'You can count on it.',\n",
    "       'Who was that? Somebody out there?', 'Anyway if you need me.',\n",
    "       'What do you mean there is no family?',\n",
    "       'Wish I could say the same.', 'How much more a month?',\n",
    "       'What do your friends call you?', 'When I was very young.',\n",
    "       'Can anything be done for him?', 'I will start with you.',\n",
    "       'Mom says to clean up the pool.', 'How far from here?',\n",
    "       'Look, either come in or stay out!', 'Do you have everything?',\n",
    "       'I like your hat.', 'Why are you here, then?',\n",
    "       'What took you so long?', 'How bad is it for you?',\n",
    "       'Can I give her a message?', 'Well, when do you get paid?'])\n",
    "\n",
    "sample_texts_new=[]\n",
    "for text in sample_texts:\n",
    "    text = regex.sub('', text.lower())\n",
    "    text = ' '.join([t for t in text.split(' ') if t != ''])\n",
    "    sample_texts_new.append(text)\n",
    "sample_texts=sample_texts_new"
   ]
  },
  {
   "cell_type": "code",
   "execution_count": 48,
   "id": "aa25480e-af33-41e9-8c4f-c0bd1a334818",
   "metadata": {
    "tags": []
   },
   "outputs": [
    {
     "name": "stderr",
     "output_type": "stream",
     "text": [
      "9887it [00:00, 219798.08it/s]\n"
     ]
    }
   ],
   "source": [
    "lens=[]\n",
    "word_lens=[]\n",
    "for ecog_file,text in tqdm.tqdm(zip(ecog_files,texts)):\n",
    "    if text not in sample_texts:\n",
    "        continue\n",
    "    save_path = ecog_file.stem.split('_')[-1]\n",
    "    save_path = save_dir/f'{save_path}.npy'\n",
    "    phpos = np.load(save_path)\n",
    "    non_blank = np.nonzero((phpos[:,:2].sum(-1)<0.5)*1.0)[0]\n",
    "    start, end = non_blank[0],non_blank[-1]\n",
    "    word_lens.append(len(text.split(' ')))\n",
    "    lens.append(end-start+1)"
   ]
  },
  {
   "cell_type": "code",
   "execution_count": null,
   "id": "01b98711-b418-4200-b07c-34bb82b0c148",
   "metadata": {},
   "outputs": [],
   "source": []
  }
 ],
 "metadata": {
  "kernelspec": {
   "display_name": "transformer",
   "language": "python",
   "name": "transformer"
  },
  "language_info": {
   "codemirror_mode": {
    "name": "ipython",
    "version": 3
   },
   "file_extension": ".py",
   "mimetype": "text/x-python",
   "name": "python",
   "nbconvert_exporter": "python",
   "pygments_lexer": "ipython3",
   "version": "3.8.17"
  }
 },
 "nbformat": 4,
 "nbformat_minor": 5
}
